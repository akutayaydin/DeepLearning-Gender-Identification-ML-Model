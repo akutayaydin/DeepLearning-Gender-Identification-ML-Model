{
  "cells": [
    {
      "cell_type": "markdown",
      "metadata": {
        "id": "view-in-github",
        "colab_type": "text"
      },
      "source": [
        "<a href=\"https://colab.research.google.com/github/akutayaydin/Magnimind-5.1-DeepLearning/blob/main/3_Keras_CNN_Dog_or_Cat_Classification.ipynb\" target=\"_parent\"><img src=\"https://colab.research.google.com/assets/colab-badge.svg\" alt=\"Open In Colab\"/></a>"
      ]
    },
    {
      "cell_type": "markdown",
      "metadata": {
        "id": "FiV-LslO7fEt"
      },
      "source": [
        "## Cat Dog Dataset\n",
        "\n",
        "The training archive contains 25,000 images of dogs and cats. Train your algorithm on these files and predict the labels for test1.zip (1 = dog, 0 = cat).\n",
        "\n",
        "You can obtain the dataset from https://www.kaggle.com/c/dogs-vs-cats/data\n",
        "\n",
        "This case study is adopted from https://www.kaggle.com/uysimty/keras-cnn-dog-or-cat-classification"
      ]
    },
    {
      "cell_type": "markdown",
      "metadata": {
        "_uuid": "fe76d1d1ded592430e7548feacfa38dc42f085d9",
        "id": "qnO5kzxr7fEy"
      },
      "source": [
        "### 1. Import Library"
      ]
    },
    {
      "cell_type": "code",
      "execution_count": 2,
      "metadata": {
        "_cell_guid": "b1076dfc-b9ad-4769-8c92-a6c4dae69d19",
        "_uuid": "8f2839f25d086af736a60e9eeb907d3b93b6e0e5",
        "id": "asCDszVM7fEy"
      },
      "outputs": [],
      "source": [
        "import numpy as np\n",
        "import pandas as pd \n",
        "from keras.preprocessing.image import ImageDataGenerator\n",
        "from keras.utils import to_categorical\n",
        "from sklearn.model_selection import train_test_split\n",
        "import matplotlib.pyplot as plt\n",
        "import random\n",
        "import os\n",
        "\n",
        "from PIL import Image"
      ]
    },
    {
      "cell_type": "code",
      "source": [
        "from google.colab import drive\n",
        "drive.mount('/content/gdrive')"
      ],
      "metadata": {
        "colab": {
          "base_uri": "https://localhost:8080/"
        },
        "id": "j0-llCKjCaWr",
        "outputId": "3acd2a8b-3a87-48f5-e0bf-66d8acb02658"
      },
      "execution_count": 9,
      "outputs": [
        {
          "output_type": "stream",
          "name": "stdout",
          "text": [
            "Drive already mounted at /content/gdrive; to attempt to forcibly remount, call drive.mount(\"/content/gdrive\", force_remount=True).\n"
          ]
        }
      ]
    },
    {
      "cell_type": "code",
      "source": [
        "mypath_traindata = '/content/gdrive/My Drive/Google Colab Folder/train'\n",
        "mypath_validationdata = '/content/gdrive/My Drive/Google Colab Folder/cats_dogs_small/test'"
      ],
      "metadata": {
        "id": "9zcCZdUXCbQv"
      },
      "execution_count": 10,
      "outputs": []
    },
    {
      "cell_type": "code",
      "source": [
        "#check for any file corruption\n",
        "\n",
        "\n",
        "\n",
        "for name in os.listdir(mypath_traindata):\n",
        "  dir = os.path.join(mypath_traindata,name)\n",
        "  if os.path.isdir(dir):\n",
        "    print('Directory name' + str(dir))\n",
        "    #for fname in os.listdir()\n"
      ],
      "metadata": {
        "colab": {
          "base_uri": "https://localhost:8080/",
          "height": 232
        },
        "id": "rC5qFgy0CjRk",
        "outputId": "d710ac95-314b-4a66-ee10-88293130a715"
      },
      "execution_count": 12,
      "outputs": [
        {
          "output_type": "error",
          "ename": "FileNotFoundError",
          "evalue": "ignored",
          "traceback": [
            "\u001b[0;31m---------------------------------------------------------------------------\u001b[0m",
            "\u001b[0;31mFileNotFoundError\u001b[0m                         Traceback (most recent call last)",
            "\u001b[0;32m<ipython-input-12-462d31108945>\u001b[0m in \u001b[0;36m<cell line: 5>\u001b[0;34m()\u001b[0m\n\u001b[1;32m      3\u001b[0m \u001b[0;34m\u001b[0m\u001b[0m\n\u001b[1;32m      4\u001b[0m \u001b[0;34m\u001b[0m\u001b[0m\n\u001b[0;32m----> 5\u001b[0;31m \u001b[0;32mfor\u001b[0m \u001b[0mname\u001b[0m \u001b[0;32min\u001b[0m \u001b[0mos\u001b[0m\u001b[0;34m.\u001b[0m\u001b[0mlistdir\u001b[0m\u001b[0;34m(\u001b[0m\u001b[0mmypath_traindata\u001b[0m\u001b[0;34m)\u001b[0m\u001b[0;34m:\u001b[0m\u001b[0;34m\u001b[0m\u001b[0;34m\u001b[0m\u001b[0m\n\u001b[0m\u001b[1;32m      6\u001b[0m   \u001b[0mdir\u001b[0m \u001b[0;34m=\u001b[0m \u001b[0mos\u001b[0m\u001b[0;34m.\u001b[0m\u001b[0mpath\u001b[0m\u001b[0;34m.\u001b[0m\u001b[0mjoin\u001b[0m\u001b[0;34m(\u001b[0m\u001b[0mmypath_traindata\u001b[0m\u001b[0;34m,\u001b[0m\u001b[0mname\u001b[0m\u001b[0;34m)\u001b[0m\u001b[0;34m\u001b[0m\u001b[0;34m\u001b[0m\u001b[0m\n\u001b[1;32m      7\u001b[0m   \u001b[0;32mif\u001b[0m \u001b[0mos\u001b[0m\u001b[0;34m.\u001b[0m\u001b[0mpath\u001b[0m\u001b[0;34m.\u001b[0m\u001b[0misdir\u001b[0m\u001b[0;34m(\u001b[0m\u001b[0mdir\u001b[0m\u001b[0;34m)\u001b[0m\u001b[0;34m:\u001b[0m\u001b[0;34m\u001b[0m\u001b[0;34m\u001b[0m\u001b[0m\n",
            "\u001b[0;31mFileNotFoundError\u001b[0m: [Errno 2] No such file or directory: '/content/gdrive/My Drive/Google Colab Folder/cats_dogs_small/train'"
          ]
        }
      ]
    },
    {
      "cell_type": "markdown",
      "metadata": {
        "id": "W18LrxmA7fE0"
      },
      "source": [
        "### 2. Define Constants"
      ]
    },
    {
      "cell_type": "code",
      "execution_count": null,
      "metadata": {
        "id": "Vxb9h7C47fE0"
      },
      "outputs": [],
      "source": [
        "FAST_RUN = True #False\n",
        "IMAGE_WIDTH=128\n",
        "IMAGE_HEIGHT=128\n",
        "IMAGE_SIZE=(IMAGE_WIDTH, IMAGE_HEIGHT)\n",
        "IMAGE_CHANNELS=3"
      ]
    },
    {
      "cell_type": "markdown",
      "metadata": {
        "_uuid": "7335a579cc0268fba5d34d6f7558f33c187eedb3",
        "id": "yINmP9Qo7fE1"
      },
      "source": [
        "### 3. Prepare Traning Data"
      ]
    },
    {
      "cell_type": "code",
      "execution_count": null,
      "metadata": {
        "id": "Pc7UILGt7fE1"
      },
      "outputs": [],
      "source": []
    },
    {
      "cell_type": "markdown",
      "metadata": {
        "_uuid": "a999484fc35b73373fafe2253ae9db7ff46fdb90",
        "id": "9cvVDZYV7fE1"
      },
      "source": [
        "#### See Total In count"
      ]
    },
    {
      "cell_type": "code",
      "execution_count": null,
      "metadata": {
        "id": "29VmbP9f7fE1"
      },
      "outputs": [],
      "source": []
    },
    {
      "cell_type": "markdown",
      "metadata": {
        "_uuid": "3a08da58107777a1dd05c4a4bf5c484484923cac",
        "id": "XwRrV2hR7fE2"
      },
      "source": [
        "From our data we have 12000 cats and 12000 dogs"
      ]
    },
    {
      "cell_type": "markdown",
      "metadata": {
        "_uuid": "400a293df3c8499059d9175f3915187074efd971",
        "id": "wUGeRz3W7fE2"
      },
      "source": [
        "#### See sample image"
      ]
    },
    {
      "cell_type": "code",
      "execution_count": null,
      "metadata": {
        "id": "5JiYGJTU7fE2"
      },
      "outputs": [],
      "source": []
    },
    {
      "cell_type": "markdown",
      "metadata": {
        "_uuid": "b244e6b7715a04fc6df92dd6dfa3d35c473ca600",
        "id": "XNq3zMsA7fE2"
      },
      "source": [
        "### 4. Build Model\n",
        "\n",
        "<img src=\"https://i.imgur.com/ebkMGGu.jpg\" width=\"100%\"/>"
      ]
    },
    {
      "cell_type": "markdown",
      "metadata": {
        "id": "pm-VOAf27fE2"
      },
      "source": [
        "* **Input Layer**: It represent input image data. It will reshape image into single dimension array. Example your image is 64x64 = 4096, it will convert to (4096,1) array.\n",
        "* **Conv Layer**: This layer will extract features from image.\n",
        "* **Pooling Layer**: This layer reduces the spatial volume of input image after convolution.\n",
        "* **Fully Connected Layer**: It connect the network from a layer to another layer\n",
        "* **Output Layer**: It is the predicted values layer. "
      ]
    },
    {
      "cell_type": "code",
      "execution_count": null,
      "metadata": {
        "id": "-Ct5-tlR7fE3"
      },
      "outputs": [],
      "source": []
    },
    {
      "cell_type": "markdown",
      "metadata": {
        "_uuid": "bd496f6c65888a969be3703135b0b03a8a1190c8",
        "id": "R0YH7ZvY7fE3"
      },
      "source": [
        "### 5. Callbacks"
      ]
    },
    {
      "cell_type": "code",
      "execution_count": null,
      "metadata": {
        "id": "jGkBEWmN7fE3"
      },
      "outputs": [],
      "source": []
    },
    {
      "cell_type": "markdown",
      "metadata": {
        "_uuid": "76c9ba4fb7f930c96b2c3e0d6b68ed9fa6a4227b",
        "id": "U4a6nkMZ7fE4"
      },
      "source": [
        "**Early Stop**\n",
        "\n",
        "Keras supports the early stopping of training via a callback called EarlyStopping.\n",
        "\n",
        "This callback allows you to specify the performance measure to monitor, the trigger, and once triggered, it will stop the training process.\n",
        "\n",
        "The `EarlyStopping` callback is configured when instantiated via arguments.\n",
        "\n",
        "The `monitor` allows you to specify the performance measure to monitor in order to end training.\n",
        "\n",
        "To prevent over fitting we will stop the learning after 10 epochs and val_loss value not decreased"
      ]
    },
    {
      "cell_type": "code",
      "execution_count": null,
      "metadata": {
        "_uuid": "3421c5ec428da6c0d8cc1184179a9caff1e01d1c",
        "id": "1cwogXfD7fE4"
      },
      "outputs": [],
      "source": [
        "earlystop = EarlyStopping(patience=10)"
      ]
    },
    {
      "cell_type": "markdown",
      "metadata": {
        "_uuid": "51d3fe52e911286433cedf6e47332948a253361e",
        "id": "kUNUkH9C7fE4"
      },
      "source": [
        "**Learning Rate Reduction**\n",
        "\n",
        "We will reduce the learning rate when then accuracy not increase for 2 steps"
      ]
    },
    {
      "cell_type": "code",
      "execution_count": null,
      "metadata": {
        "id": "8EpDmwdF7fE4"
      },
      "outputs": [],
      "source": []
    },
    {
      "cell_type": "markdown",
      "metadata": {
        "id": "Nl40qBAK7fE5"
      },
      "source": [
        "### 6. Prepare data"
      ]
    },
    {
      "cell_type": "markdown",
      "metadata": {
        "id": "xh1nEv1D7fE5"
      },
      "source": [
        "Because we will use image genaretor `with class_mode=\"categorical\"`. We need to convert column category into string. Then imagenerator will convert it one-hot encoding which is good for our classification. \n",
        "\n",
        "So we will convert 1 to dog and 0 to cat"
      ]
    },
    {
      "cell_type": "code",
      "execution_count": null,
      "metadata": {
        "id": "tGwgbma37fE5"
      },
      "outputs": [],
      "source": []
    },
    {
      "cell_type": "markdown",
      "metadata": {
        "_uuid": "ff760be9104f7d9492467b8d9d3405011aa77d11",
        "id": "qMt6ybkW7fE5"
      },
      "source": [
        "### 7. Traning Generator"
      ]
    },
    {
      "cell_type": "code",
      "execution_count": null,
      "metadata": {
        "id": "61ngA2Wm7fE6"
      },
      "outputs": [],
      "source": []
    },
    {
      "cell_type": "markdown",
      "metadata": {
        "_uuid": "859c7b2857939c19fd2e3bb32839c9f7deb5aa3f",
        "id": "FAk4VMNK7fE6"
      },
      "source": [
        "### Validation Generator"
      ]
    },
    {
      "cell_type": "code",
      "execution_count": null,
      "metadata": {
        "id": "4G6jvGBg7fE6"
      },
      "outputs": [],
      "source": []
    },
    {
      "cell_type": "markdown",
      "metadata": {
        "_uuid": "6e17fc1f002fedd60febb78fee5e81770640b909",
        "id": "993PnRzu7fE6"
      },
      "source": [
        "### 8. See how our generator work"
      ]
    },
    {
      "cell_type": "markdown",
      "metadata": {
        "_uuid": "810ddf1373d9db470ed48da4f30ca5a6c1274435",
        "id": "N1rGbo2W7fE6"
      },
      "source": [
        "Seem to be nice "
      ]
    },
    {
      "cell_type": "code",
      "execution_count": null,
      "metadata": {
        "id": "efUfI2s07fE7"
      },
      "outputs": [],
      "source": []
    },
    {
      "cell_type": "markdown",
      "metadata": {
        "_uuid": "5cd8df64e794ed17de326b613a9819e7da977a0e",
        "id": "_dONzAPV7fE7"
      },
      "source": [
        "### 9. Fit Model"
      ]
    },
    {
      "cell_type": "code",
      "execution_count": null,
      "metadata": {
        "id": "_6tN2LJh7fE7"
      },
      "outputs": [],
      "source": []
    },
    {
      "cell_type": "markdown",
      "metadata": {
        "_uuid": "aa1fbc4081ae0de2993188b2bf658a0be5bc0687",
        "id": "w97EDrSg7fE7"
      },
      "source": [
        "### 10. Save Model"
      ]
    },
    {
      "cell_type": "code",
      "execution_count": null,
      "metadata": {
        "id": "fI0yemst7fE8"
      },
      "outputs": [],
      "source": []
    },
    {
      "cell_type": "markdown",
      "metadata": {
        "_uuid": "1b76c0a9040bc0babf0a453e567e41e22f8a1e0e",
        "id": "WqNsdBHL7fE8"
      },
      "source": [
        "### 11. Virtualize Training"
      ]
    },
    {
      "cell_type": "code",
      "execution_count": null,
      "metadata": {
        "id": "vQfQzadN7fE8"
      },
      "outputs": [],
      "source": []
    },
    {
      "cell_type": "markdown",
      "metadata": {
        "_uuid": "764dc66e4b2bc558f3a0f90b80bb802f5b3d45a8",
        "id": "rqzf8ZTK7fE8"
      },
      "source": [
        "### 12. Prepare Testing Data"
      ]
    },
    {
      "cell_type": "code",
      "execution_count": null,
      "metadata": {
        "id": "lgbiaki27fE9"
      },
      "outputs": [],
      "source": []
    },
    {
      "cell_type": "markdown",
      "metadata": {
        "_uuid": "291bc3996dce8d05e174b27d64f03996d3e8038e",
        "id": "QKpTRiAt7fE9"
      },
      "source": [
        "### 13. Create Testing Generator"
      ]
    },
    {
      "cell_type": "code",
      "execution_count": null,
      "metadata": {
        "id": "gl9yjNGD7fE9"
      },
      "outputs": [],
      "source": []
    },
    {
      "cell_type": "markdown",
      "metadata": {
        "_uuid": "2fa580afca2931ec5ce374e732d8c1789d03f2ed",
        "id": "_MshRyEC7fE9"
      },
      "source": [
        "### 14. Predict"
      ]
    },
    {
      "cell_type": "code",
      "execution_count": null,
      "metadata": {
        "id": "suK4vks07fE9"
      },
      "outputs": [],
      "source": []
    },
    {
      "cell_type": "markdown",
      "metadata": {
        "_uuid": "b00add65fe765529e637c3a9904d710bb7eff1d8",
        "id": "CySKoCNe7fE-"
      },
      "source": [
        "#### Virtualize Result"
      ]
    },
    {
      "cell_type": "code",
      "execution_count": null,
      "metadata": {
        "id": "TkWvShF97fE-"
      },
      "outputs": [],
      "source": []
    },
    {
      "cell_type": "markdown",
      "metadata": {
        "_uuid": "ce72a83f80d6e012b12b82c8ee3365d671a3b307",
        "id": "mlUpFzfv7fE-"
      },
      "source": [
        "### 15. See predicted result with images"
      ]
    },
    {
      "cell_type": "code",
      "execution_count": null,
      "metadata": {
        "id": "jl0gm3gA7fE-"
      },
      "outputs": [],
      "source": []
    }
  ],
  "metadata": {
    "kernelspec": {
      "display_name": "Python 3 (ipykernel)",
      "language": "python",
      "name": "python3"
    },
    "language_info": {
      "codemirror_mode": {
        "name": "ipython",
        "version": 3
      },
      "file_extension": ".py",
      "mimetype": "text/x-python",
      "name": "python",
      "nbconvert_exporter": "python",
      "pygments_lexer": "ipython3",
      "version": "3.9.15"
    },
    "colab": {
      "provenance": [],
      "include_colab_link": true
    }
  },
  "nbformat": 4,
  "nbformat_minor": 0
}