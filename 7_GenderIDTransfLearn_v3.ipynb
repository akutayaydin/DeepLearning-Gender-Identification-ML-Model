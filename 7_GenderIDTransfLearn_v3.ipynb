{
  "cells": [
    {
      "cell_type": "markdown",
      "metadata": {
        "id": "view-in-github",
        "colab_type": "text"
      },
      "source": [
        "<a href=\"https://colab.research.google.com/github/akutayaydin/Magnimind-5.1-DeepLearning/blob/main/7_GenderIDTransfLearn_v3.ipynb\" target=\"_parent\"><img src=\"https://colab.research.google.com/assets/colab-badge.svg\" alt=\"Open In Colab\"/></a>"
      ]
    },
    {
      "cell_type": "markdown",
      "metadata": {
        "id": "AGk9JdHMVNOi"
      },
      "source": [
        "### `list_attr_celeba` Dataset\n",
        "A popular component of computer vision and deep learning revolves around identifying faces for various applications from logging into your phone with your face or searching through surveillance images for a particular suspect. This dataset is great for training and testing models for face detection, particularly for recognising facial attributes such as finding people with brown hair, are smiling, or wearing glasses. Images cover large pose variations, background clutter, diverse people, supported by a large quantity of images and rich annotations. This data was originally collected by researchers at MMLAB, The Chinese University of Hong Kong (specific reference in Acknowledgment section).\n",
        "\n",
        "\n",
        "\n",
        "- 202,599 number of face images of various celebrities\n",
        "- 10,177 unique identities, but names of identities are not given\n",
        "- 40 binary attribute annotations per image\n",
        "\n",
        "You can obtain the dataset from https://www.kaggle.com/jessicali9530/celeba-dataset"
      ]
    },
    {
      "cell_type": "code",
      "execution_count": null,
      "metadata": {
        "id": "W1TBYii4Z3jE"
      },
      "outputs": [],
      "source": [
        "#Identify Gender of the Picture"
      ]
    },
    {
      "cell_type": "code",
      "execution_count": null,
      "metadata": {
        "id": "3FoUn4O3VNOn"
      },
      "outputs": [],
      "source": [
        "import numpy as np\n",
        "import pandas as pd \n",
        "\n",
        "from sklearn.model_selection import train_test_split\n",
        "import matplotlib.pyplot as plt\n",
        "import random\n",
        "import os\n",
        "import keras\n",
        "from keras import optimizers\n",
        "from keras.preprocessing.image import ImageDataGenerator\n",
        "from keras.preprocessing import image\n",
        "import keras.utils as image\n",
        "from tensorflow.keras.utils import load_img\n",
        "from keras.utils import to_categorical\n",
        "from keras.models import Model\n",
        "from keras.applications.vgg16 import VGG16\n",
        "from keras.applications.vgg16 import preprocess_input\n",
        "from keras.models import Sequential\n",
        "from keras.layers import Dense, Dropout, GlobalAveragePooling2D, BatchNormalization"
      ]
    },
    {
      "cell_type": "code",
      "execution_count": null,
      "metadata": {
        "colab": {
          "base_uri": "https://localhost:8080/"
        },
        "id": "isRJzNs7V0aA",
        "outputId": "b40d37f8-ff22-4677-c8a5-d72a060c4504"
      },
      "outputs": [
        {
          "name": "stdout",
          "output_type": "stream",
          "text": [
            "Drive already mounted at /content/gdrive; to attempt to forcibly remount, call drive.mount(\"/content/gdrive\", force_remount=True).\n"
          ]
        }
      ],
      "source": [
        "from google.colab import drive\n",
        "drive.mount('/content/gdrive')"
      ]
    },
    {
      "cell_type": "code",
      "execution_count": null,
      "metadata": {
        "colab": {
          "base_uri": "https://localhost:8080/"
        },
        "id": "v1TDQ9WeVNOp",
        "outputId": "8873b96b-5f02-4b2a-fa11-e10e45b6ed83"
      },
      "outputs": [
        {
          "name": "stdout",
          "output_type": "stream",
          "text": [
            "['list_attr_celeba.csv', '.ipynb_checkpoints', 'list_attr_celeba 2.csv', 'train', 'test', 'validation']\n"
          ]
        }
      ],
      "source": [
        "mypath='/content/gdrive/My Drive/Google Colab Folder/celeb_small'\n",
        "print(os.listdir(mypath))"
      ]
    },
    {
      "cell_type": "code",
      "execution_count": null,
      "metadata": {
        "id": "vEWizbqieINI"
      },
      "outputs": [],
      "source": [
        "mypath_traindata = '/content/gdrive/My Drive/Google Colab Folder/celeb_small/train'\n",
        "mypath_validationdata = '/content/gdrive/My Drive/Google Colab Folder/celeb_small/validation'\n",
        "mypath_testdata = '/content/gdrive/My Drive/Google Colab Folder/celeb_small/test'"
      ]
    },
    {
      "cell_type": "markdown",
      "metadata": {
        "id": "CAIQHfs5VNOq"
      },
      "source": [
        "### 4. Build Model\n",
        "\n",
        "- First, copy VGG16 without the dense layers, use the weights from `imagenet`. Set the input shape to `(178,218,3)`.\n",
        "- Freeze the layers except the last two layers and print to see if the layers are trainable or not.\n",
        "- Build your sequential model (you are free to use a functioanl API as a further exercise). Include all the frozen VGG layers to your model. Add a Dense layer with 128 inouts and `relu` activation. Add a batch nomalizer, then a dense layer as the output layer. \n",
        "- Create an early stopping criteria monitorin the loss value for the validation set. Stop the search if the loss value deosnt change for two consecutive times.\n",
        "- Compile the model.\n",
        "- Save the best model automatically based on the performance of the validation set."
      ]
    },
    {
      "cell_type": "code",
      "execution_count": null,
      "metadata": {
        "id": "DtZd4NjmVVNL"
      },
      "outputs": [],
      "source": [
        "#Initiate the model\n",
        "\n",
        "vgg_model = keras.applications.vgg16.VGG16()"
      ]
    },
    {
      "cell_type": "code",
      "execution_count": null,
      "metadata": {
        "colab": {
          "base_uri": "https://localhost:8080/"
        },
        "id": "jfaJHCXBVwk-",
        "outputId": "cd948a10-7f1f-49e8-bdcb-f63a7d18a97d"
      },
      "outputs": [
        {
          "name": "stdout",
          "output_type": "stream",
          "text": [
            "Model: \"vgg16\"\n",
            "_________________________________________________________________\n",
            " Layer (type)                Output Shape              Param #   \n",
            "=================================================================\n",
            " input_1 (InputLayer)        [(None, 224, 224, 3)]     0         \n",
            "                                                                 \n",
            " block1_conv1 (Conv2D)       (None, 224, 224, 64)      1792      \n",
            "                                                                 \n",
            " block1_conv2 (Conv2D)       (None, 224, 224, 64)      36928     \n",
            "                                                                 \n",
            " block1_pool (MaxPooling2D)  (None, 112, 112, 64)      0         \n",
            "                                                                 \n",
            " block2_conv1 (Conv2D)       (None, 112, 112, 128)     73856     \n",
            "                                                                 \n",
            " block2_conv2 (Conv2D)       (None, 112, 112, 128)     147584    \n",
            "                                                                 \n",
            " block2_pool (MaxPooling2D)  (None, 56, 56, 128)       0         \n",
            "                                                                 \n",
            " block3_conv1 (Conv2D)       (None, 56, 56, 256)       295168    \n",
            "                                                                 \n",
            " block3_conv2 (Conv2D)       (None, 56, 56, 256)       590080    \n",
            "                                                                 \n",
            " block3_conv3 (Conv2D)       (None, 56, 56, 256)       590080    \n",
            "                                                                 \n",
            " block3_pool (MaxPooling2D)  (None, 28, 28, 256)       0         \n",
            "                                                                 \n",
            " block4_conv1 (Conv2D)       (None, 28, 28, 512)       1180160   \n",
            "                                                                 \n",
            " block4_conv2 (Conv2D)       (None, 28, 28, 512)       2359808   \n",
            "                                                                 \n",
            " block4_conv3 (Conv2D)       (None, 28, 28, 512)       2359808   \n",
            "                                                                 \n",
            " block4_pool (MaxPooling2D)  (None, 14, 14, 512)       0         \n",
            "                                                                 \n",
            " block5_conv1 (Conv2D)       (None, 14, 14, 512)       2359808   \n",
            "                                                                 \n",
            " block5_conv2 (Conv2D)       (None, 14, 14, 512)       2359808   \n",
            "                                                                 \n",
            " block5_conv3 (Conv2D)       (None, 14, 14, 512)       2359808   \n",
            "                                                                 \n",
            " block5_pool (MaxPooling2D)  (None, 7, 7, 512)         0         \n",
            "                                                                 \n",
            " flatten (Flatten)           (None, 25088)             0         \n",
            "                                                                 \n",
            " fc1 (Dense)                 (None, 4096)              102764544 \n",
            "                                                                 \n",
            " fc2 (Dense)                 (None, 4096)              16781312  \n",
            "                                                                 \n",
            " predictions (Dense)         (None, 1000)              4097000   \n",
            "                                                                 \n",
            "=================================================================\n",
            "Total params: 138,357,544\n",
            "Trainable params: 138,357,544\n",
            "Non-trainable params: 0\n",
            "_________________________________________________________________\n",
            "None\n"
          ]
        }
      ],
      "source": [
        "print(vgg_model.summary())"
      ]
    },
    {
      "cell_type": "code",
      "execution_count": null,
      "metadata": {
        "id": "catm5M1lV50R"
      },
      "outputs": [],
      "source": [
        "#Remove the last layer\n",
        "#Remove the last layer of predictions from the model.\n",
        "last_layer = str(vgg_model.layers[-1])"
      ]
    },
    {
      "cell_type": "code",
      "execution_count": null,
      "metadata": {
        "colab": {
          "base_uri": "https://localhost:8080/",
          "height": 37
        },
        "id": "rE6-6zuJXECp",
        "outputId": "a61600be-8f0d-4ece-8600-ac574bfe7bb9"
      },
      "outputs": [
        {
          "data": {
            "application/vnd.google.colaboratory.intrinsic+json": {
              "type": "string"
            },
            "text/plain": [
              "'<keras.layers.core.dense.Dense object at 0x7f3a66743a00>'"
            ]
          },
          "execution_count": 9,
          "metadata": {},
          "output_type": "execute_result"
        }
      ],
      "source": [
        "last_layer"
      ]
    },
    {
      "cell_type": "code",
      "execution_count": null,
      "metadata": {
        "id": "NlopJ_Y8ZOY7"
      },
      "outputs": [],
      "source": [
        "#Create a new Keras model of the sequential class and iterate through all the layers of the VGG model. \n",
        "#Add all of them to the new model, except for the last layer"
      ]
    },
    {
      "cell_type": "code",
      "execution_count": null,
      "metadata": {
        "id": "zRYPOyYJWhdL"
      },
      "outputs": [],
      "source": [
        "model = keras.Sequential()"
      ]
    },
    {
      "cell_type": "code",
      "execution_count": null,
      "metadata": {
        "id": "8Spvhrh0Ws8z"
      },
      "outputs": [],
      "source": [
        "for layer in vgg_model.layers:\n",
        "  if str(layer) != last_layer:\n",
        "    model.add(layer)"
      ]
    },
    {
      "cell_type": "code",
      "execution_count": null,
      "metadata": {
        "colab": {
          "base_uri": "https://localhost:8080/"
        },
        "id": "UoMhPAxkW9y3",
        "outputId": "057d41b7-e7d9-4f51-d322-a03cf8d64261"
      },
      "outputs": [
        {
          "name": "stdout",
          "output_type": "stream",
          "text": [
            "Model: \"sequential\"\n",
            "_________________________________________________________________\n",
            " Layer (type)                Output Shape              Param #   \n",
            "=================================================================\n",
            " block1_conv1 (Conv2D)       (None, 224, 224, 64)      1792      \n",
            "                                                                 \n",
            " block1_conv2 (Conv2D)       (None, 224, 224, 64)      36928     \n",
            "                                                                 \n",
            " block1_pool (MaxPooling2D)  (None, 112, 112, 64)      0         \n",
            "                                                                 \n",
            " block2_conv1 (Conv2D)       (None, 112, 112, 128)     73856     \n",
            "                                                                 \n",
            " block2_conv2 (Conv2D)       (None, 112, 112, 128)     147584    \n",
            "                                                                 \n",
            " block2_pool (MaxPooling2D)  (None, 56, 56, 128)       0         \n",
            "                                                                 \n",
            " block3_conv1 (Conv2D)       (None, 56, 56, 256)       295168    \n",
            "                                                                 \n",
            " block3_conv2 (Conv2D)       (None, 56, 56, 256)       590080    \n",
            "                                                                 \n",
            " block3_conv3 (Conv2D)       (None, 56, 56, 256)       590080    \n",
            "                                                                 \n",
            " block3_pool (MaxPooling2D)  (None, 28, 28, 256)       0         \n",
            "                                                                 \n",
            " block4_conv1 (Conv2D)       (None, 28, 28, 512)       1180160   \n",
            "                                                                 \n",
            " block4_conv2 (Conv2D)       (None, 28, 28, 512)       2359808   \n",
            "                                                                 \n",
            " block4_conv3 (Conv2D)       (None, 28, 28, 512)       2359808   \n",
            "                                                                 \n",
            " block4_pool (MaxPooling2D)  (None, 14, 14, 512)       0         \n",
            "                                                                 \n",
            " block5_conv1 (Conv2D)       (None, 14, 14, 512)       2359808   \n",
            "                                                                 \n",
            " block5_conv2 (Conv2D)       (None, 14, 14, 512)       2359808   \n",
            "                                                                 \n",
            " block5_conv3 (Conv2D)       (None, 14, 14, 512)       2359808   \n",
            "                                                                 \n",
            " block5_pool (MaxPooling2D)  (None, 7, 7, 512)         0         \n",
            "                                                                 \n",
            " flatten (Flatten)           (None, 25088)             0         \n",
            "                                                                 \n",
            " fc1 (Dense)                 (None, 4096)              102764544 \n",
            "                                                                 \n",
            " fc2 (Dense)                 (None, 4096)              16781312  \n",
            "                                                                 \n",
            "=================================================================\n",
            "Total params: 134,260,544\n",
            "Trainable params: 134,260,544\n",
            "Non-trainable params: 0\n",
            "_________________________________________________________________\n"
          ]
        }
      ],
      "source": [
        "model.summary()"
      ]
    },
    {
      "cell_type": "code",
      "execution_count": null,
      "metadata": {
        "id": "dGeFQTsSZ3rv"
      },
      "outputs": [],
      "source": [
        "#Freeze the layers to cut down on the computational time for training while losing not much on the accuracy side"
      ]
    },
    {
      "cell_type": "code",
      "execution_count": null,
      "metadata": {
        "id": "BmMPtmQhW9we"
      },
      "outputs": [],
      "source": [
        "for layer in model.layers:\n",
        "  layer.trainable = False"
      ]
    },
    {
      "cell_type": "code",
      "execution_count": null,
      "metadata": {
        "id": "CIgX5w3BW9sr"
      },
      "outputs": [],
      "source": [
        "#Add a new output layer of size 1 with a sigmoid activation function and print the model summary"
      ]
    },
    {
      "cell_type": "code",
      "execution_count": null,
      "metadata": {
        "id": "1n06x7V3W9jt"
      },
      "outputs": [],
      "source": [
        "model.add(Dense(1,activation = 'sigmoid'))"
      ]
    },
    {
      "cell_type": "code",
      "execution_count": null,
      "metadata": {
        "colab": {
          "base_uri": "https://localhost:8080/"
        },
        "id": "cOt3lxCNaP4_",
        "outputId": "be436f0a-545b-4453-a853-79e84d186a36"
      },
      "outputs": [
        {
          "name": "stdout",
          "output_type": "stream",
          "text": [
            "Model: \"sequential\"\n",
            "_________________________________________________________________\n",
            " Layer (type)                Output Shape              Param #   \n",
            "=================================================================\n",
            " block1_conv1 (Conv2D)       (None, 224, 224, 64)      1792      \n",
            "                                                                 \n",
            " block1_conv2 (Conv2D)       (None, 224, 224, 64)      36928     \n",
            "                                                                 \n",
            " block1_pool (MaxPooling2D)  (None, 112, 112, 64)      0         \n",
            "                                                                 \n",
            " block2_conv1 (Conv2D)       (None, 112, 112, 128)     73856     \n",
            "                                                                 \n",
            " block2_conv2 (Conv2D)       (None, 112, 112, 128)     147584    \n",
            "                                                                 \n",
            " block2_pool (MaxPooling2D)  (None, 56, 56, 128)       0         \n",
            "                                                                 \n",
            " block3_conv1 (Conv2D)       (None, 56, 56, 256)       295168    \n",
            "                                                                 \n",
            " block3_conv2 (Conv2D)       (None, 56, 56, 256)       590080    \n",
            "                                                                 \n",
            " block3_conv3 (Conv2D)       (None, 56, 56, 256)       590080    \n",
            "                                                                 \n",
            " block3_pool (MaxPooling2D)  (None, 28, 28, 256)       0         \n",
            "                                                                 \n",
            " block4_conv1 (Conv2D)       (None, 28, 28, 512)       1180160   \n",
            "                                                                 \n",
            " block4_conv2 (Conv2D)       (None, 28, 28, 512)       2359808   \n",
            "                                                                 \n",
            " block4_conv3 (Conv2D)       (None, 28, 28, 512)       2359808   \n",
            "                                                                 \n",
            " block4_pool (MaxPooling2D)  (None, 14, 14, 512)       0         \n",
            "                                                                 \n",
            " block5_conv1 (Conv2D)       (None, 14, 14, 512)       2359808   \n",
            "                                                                 \n",
            " block5_conv2 (Conv2D)       (None, 14, 14, 512)       2359808   \n",
            "                                                                 \n",
            " block5_conv3 (Conv2D)       (None, 14, 14, 512)       2359808   \n",
            "                                                                 \n",
            " block5_pool (MaxPooling2D)  (None, 7, 7, 512)         0         \n",
            "                                                                 \n",
            " flatten (Flatten)           (None, 25088)             0         \n",
            "                                                                 \n",
            " fc1 (Dense)                 (None, 4096)              102764544 \n",
            "                                                                 \n",
            " fc2 (Dense)                 (None, 4096)              16781312  \n",
            "                                                                 \n",
            " dense (Dense)               (None, 1)                 4097      \n",
            "                                                                 \n",
            "=================================================================\n",
            "Total params: 134,264,641\n",
            "Trainable params: 4,097\n",
            "Non-trainable params: 134,260,544\n",
            "_________________________________________________________________\n"
          ]
        }
      ],
      "source": [
        "model.summary()"
      ]
    },
    {
      "cell_type": "code",
      "execution_count": null,
      "metadata": {
        "id": "5sk3q3pEaZkE"
      },
      "outputs": [],
      "source": [
        "#Compile the network with an adam optimizer and binary cross-entropy loss and compute the accuracy during training"
      ]
    },
    {
      "cell_type": "code",
      "execution_count": null,
      "metadata": {
        "id": "yqf-yPlRabT7"
      },
      "outputs": [],
      "source": [
        "model.compile(optimizer = 'adam', loss= 'binary_crossentropy',metrics =['accuracy'] )"
      ]
    },
    {
      "cell_type": "code",
      "execution_count": null,
      "metadata": {
        "id": "XDLRRz0IbJYz"
      },
      "outputs": [],
      "source": [
        "# Create the data generators\n",
        "#Create some training and test data generators. \n",
        "#Rescale the training and test images by 1/255 so that all the values are between 0 and 1. \n",
        "#Set the following parameters for the training data generators only: shear_range=0.2, zoom_range=0.2, and horizontal_flip=True.\n",
        "#Next, create a training set from the training set folder. \n",
        "#Our CNN model has an image size of 178X218, so the same size should be passed here too.\n",
        "# batch_size is the number of images in a single batch, which is 32. class_mode is binary since we are creating a binary classifier"
      ]
    },
    {
      "cell_type": "markdown",
      "metadata": {
        "id": "45CFnUiSVNOr"
      },
      "source": [
        "## 5. Data Preparation\n",
        "\n",
        "- Create a validation set with 20% of the data. Check the number of data points per class from both the train and validation sets.\n",
        "- Set your batch size to 20.\n",
        "- Create the data generator and set the `preprocessing_function` to `preprocess_input` of VGG16.\n",
        "- Create train and validation data generators (batches will be picked up from the dataframe). Set target size to (178,218) (you can try something else, but you need to do the corresponding change in the model).\n",
        "- Set your validation  and epoch step size (`validation_steps` and `steps_per_epoch`)"
      ]
    },
    {
      "cell_type": "code",
      "execution_count": null,
      "metadata": {
        "colab": {
          "base_uri": "https://localhost:8080/"
        },
        "id": "Yl5INIkaa-7B",
        "outputId": "14204767-082a-4b87-943c-49fad8414a6a"
      },
      "outputs": [
        {
          "name": "stdout",
          "output_type": "stream",
          "text": [
            "Found 2900 images belonging to 2 classes.\n",
            "Found 400 images belonging to 2 classes.\n"
          ]
        }
      ],
      "source": [
        "from keras.preprocessing.image import ImageDataGenerator\n",
        "\n",
        "generate_train_data = ImageDataGenerator(rescale = 1./255,\n",
        "                                         shear_range = 0.2,\n",
        "                                         zoom_range =0.2,\n",
        "                                         horizontal_flip = True)\n",
        "\n",
        "\n",
        "generate_validation_data = ImageDataGenerator(rescale = 1./255)\n",
        "\n",
        "#Question: Image size'i 178,218 yapinca hata aliyorum bu sebeple 224,224 olark guncelledim. reshape yapilarak guncellenebilir mi? \n",
        "training_dataset = generate_train_data.flow_from_directory('/content/gdrive/My Drive/Google Colab Folder/celeb_small/train',\n",
        "                                                           #target_size = (178,218),\n",
        "                                                           target_size = (224,224),\n",
        "                                                           batch_size = 32,\n",
        "                                                           class_mode ='binary')\n",
        "\n",
        "validation_dataset = generate_validation_data.flow_from_directory('/content/gdrive/My Drive/Google Colab Folder/celeb_small/validation',\n",
        "                                                                  target_size = (224,224),\n",
        "                                                                  batch_size =32,\n",
        "                                                                  class_mode = 'binary')\n"
      ]
    },
    {
      "cell_type": "code",
      "execution_count": null,
      "metadata": {
        "id": "IDVTh8ircJRD"
      },
      "outputs": [],
      "source": [
        "#Fit the classifier \n",
        "\n",
        "STEP_SIZE_TRAIN = training_dataset.n //training_dataset.batch_size\n",
        "STEP_SIZE_VALIDATION = validation_dataset.n // validation_dataset.batch_size"
      ]
    },
    {
      "cell_type": "code",
      "execution_count": null,
      "metadata": {
        "colab": {
          "base_uri": "https://localhost:8080/"
        },
        "id": "4UoNCmpscJOQ",
        "outputId": "52eb599b-9134-4355-c934-0d632ee625f3"
      },
      "outputs": [
        {
          "data": {
            "text/plain": [
              "(90, 12)"
            ]
          },
          "execution_count": 24,
          "metadata": {},
          "output_type": "execute_result"
        }
      ],
      "source": [
        "STEP_SIZE_TRAIN, STEP_SIZE_VALIDATION"
      ]
    },
    {
      "cell_type": "code",
      "execution_count": null,
      "metadata": {
        "id": "OMCiD1bG1K-X"
      },
      "outputs": [],
      "source": [
        "from keras.callbacks import EarlyStopping\n",
        "from keras.callbacks import ReduceLROnPlateau"
      ]
    },
    {
      "cell_type": "code",
      "execution_count": null,
      "metadata": {
        "id": "zoNZ8jbp1Lnh"
      },
      "outputs": [],
      "source": [
        "earlystop = EarlyStopping(monitor='val_loss', patience=5)\n",
        "reduce_lr = ReduceLROnPlateau(monitor='val_loss', factor=0.2, patience=3)"
      ]
    },
    {
      "cell_type": "code",
      "execution_count": null,
      "metadata": {
        "id": "wcsyEDuhVxnx"
      },
      "outputs": [],
      "source": [
        "cp_callback = keras.callbacks.ModelCheckpoint(filepath=mypath,\n",
        "                                                 save_weights_only=True,\n",
        "                                                 verbose=1)"
      ]
    },
    {
      "cell_type": "markdown",
      "metadata": {
        "id": "v7vUyZ2FVNOr"
      },
      "source": [
        "## 6. Train the Model\n",
        "\n",
        "- Fit the model\n",
        "- save the model"
      ]
    },
    {
      "cell_type": "code",
      "execution_count": null,
      "metadata": {
        "colab": {
          "background_save": true,
          "base_uri": "https://localhost:8080/"
        },
        "id": "etNDfHJkZQ7t",
        "outputId": "70c8b2d9-1be1-4d43-9c9b-abb2c56a747e"
      },
      "outputs": [
        {
          "name": "stdout",
          "output_type": "stream",
          "text": [
            "Epoch 1/5\n",
            "2/2 [==============================] - ETA: 0s - loss: 0.5690 - accuracy: 0.6719 \n",
            "Epoch 1: saving model to /content/gdrive/My Drive/Google Colab Folder/celeb_small\n",
            "2/2 [==============================] - 307s 288s/step - loss: 0.5690 - accuracy: 0.6719 - val_loss: 0.5509 - val_accuracy: 0.7630 - lr: 0.0010\n",
            "Epoch 2/5\n",
            "2/2 [==============================] - ETA: 0s - loss: 0.5090 - accuracy: 0.7969 \n",
            "Epoch 2: saving model to /content/gdrive/My Drive/Google Colab Folder/celeb_small\n",
            "2/2 [==============================] - 307s 288s/step - loss: 0.5090 - accuracy: 0.7969 - val_loss: 0.5480 - val_accuracy: 0.7474 - lr: 0.0010\n",
            "Epoch 3/5\n",
            "2/2 [==============================] - ETA: 0s - loss: 0.5630 - accuracy: 0.7344 \n",
            "Epoch 3: saving model to /content/gdrive/My Drive/Google Colab Folder/celeb_small\n",
            "2/2 [==============================] - 267s 241s/step - loss: 0.5630 - accuracy: 0.7344 - val_loss: 0.5351 - val_accuracy: 0.7891 - lr: 0.0010\n",
            "Epoch 4/5\n",
            "2/2 [==============================] - ETA: 0s - loss: 0.5152 - accuracy: 0.8750 \n",
            "Epoch 4: saving model to /content/gdrive/My Drive/Google Colab Folder/celeb_small\n",
            "2/2 [==============================] - 305s 286s/step - loss: 0.5152 - accuracy: 0.8750 - val_loss: 0.5573 - val_accuracy: 0.7188 - lr: 0.0010\n",
            "Epoch 5/5\n",
            "2/2 [==============================] - ETA: 0s - loss: 0.5937 - accuracy: 0.6719 \n",
            "Epoch 5: saving model to /content/gdrive/My Drive/Google Colab Folder/celeb_small\n",
            "2/2 [==============================] - 313s 290s/step - loss: 0.5937 - accuracy: 0.6719 - val_loss: 0.5317 - val_accuracy: 0.7578 - lr: 0.0010\n"
          ]
        }
      ],
      "source": [
        "history2 = model.fit(training_dataset,\n",
        "          steps_per_epoch = 2,\n",
        "          epochs =5,\n",
        "          validation_data = validation_dataset,\n",
        "          validation_steps = STEP_SIZE_VALIDATION,\n",
        "          callbacks =[cp_callback,earlystop,reduce_lr])"
      ]
    },
    {
      "cell_type": "code",
      "execution_count": null,
      "metadata": {
        "colab": {
          "background_save": true,
          "base_uri": "https://localhost:8080/"
        },
        "id": "ZjqTNyQhcJLG",
        "outputId": "5866ceca-95d5-4dc4-ebe5-1cfc8ab41c30"
      },
      "outputs": [
        {
          "name": "stdout",
          "output_type": "stream",
          "text": [
            "Epoch 1/5\n",
            "5/5 [==============================] - 305s 73s/step - loss: 0.7573 - accuracy: 0.5270 - val_loss: 0.6763 - val_accuracy: 0.5130 - lr: 0.0010\n",
            "Epoch 2/5\n",
            "5/5 [==============================] - 354s 84s/step - loss: 0.6664 - accuracy: 0.5562 - val_loss: 0.6379 - val_accuracy: 0.5781 - lr: 0.0010\n",
            "Epoch 3/5\n",
            "5/5 [==============================] - 352s 83s/step - loss: 0.6277 - accuracy: 0.6000 - val_loss: 0.5960 - val_accuracy: 0.7734 - lr: 0.0010\n",
            "Epoch 4/5\n",
            "5/5 [==============================] - 352s 84s/step - loss: 0.6240 - accuracy: 0.6187 - val_loss: 0.5870 - val_accuracy: 0.7214 - lr: 0.0010\n",
            "Epoch 5/5\n",
            "5/5 [==============================] - 299s 70s/step - loss: 0.5799 - accuracy: 0.7000 - val_loss: 0.5960 - val_accuracy: 0.6328 - lr: 0.0010\n"
          ]
        }
      ],
      "source": [
        "history = model.fit(training_dataset,\n",
        "          steps_per_epoch = 5,\n",
        "          epochs =5,\n",
        "          validation_data = validation_dataset,\n",
        "          validation_steps = STEP_SIZE_VALIDATION,\n",
        "          callbacks =[earlystop,reduce_lr])"
      ]
    },
    {
      "cell_type": "code",
      "execution_count": null,
      "metadata": {
        "colab": {
          "base_uri": "https://localhost:8080/"
        },
        "id": "44UGBfuDS58s",
        "outputId": "5911b64d-5198-444b-9eb9-5bf0dd6fa6a0"
      },
      "outputs": [
        {
          "name": "stdout",
          "output_type": "stream",
          "text": [
            "Saved model to disk\n"
          ]
        }
      ],
      "source": [
        "model.save(str(mypath) + \"genderidtransferlearn.h5\")\n",
        "print(\"Saved model to disk\")"
      ]
    },
    {
      "cell_type": "markdown",
      "metadata": {
        "id": "OhewcShyVNOq"
      },
      "source": [
        "#### See sample image"
      ]
    },
    {
      "cell_type": "code",
      "execution_count": null,
      "metadata": {
        "colab": {
          "base_uri": "https://localhost:8080/",
          "height": 241
        },
        "id": "P3FI1CQOcJIM",
        "outputId": "aaec3e35-9b09-4eac-f4c1-1839d668757d"
      },
      "outputs": [
        {
          "data": {
            "image/png": "[encoded data removed]",
            "text/plain": [
              "<PIL.Image.Image image mode=RGB size=224x224 at 0x7F3AFC1DB5E0>"
            ]
          },
          "execution_count": 28,
          "metadata": {},
          "output_type": "execute_result"
        }
      ],
      "source": [
        "new_image = image.load_img('/content/gdrive/My Drive/Google Colab Folder/celeb_small/test/female030532.jpg', target_size = (224, 224))\n",
        "new_image\n"
      ]
    },
    {
      "cell_type": "code",
      "execution_count": null,
      "metadata": {
        "colab": {
          "base_uri": "https://localhost:8080/"
        },
        "id": "OS3ESjswcJFa",
        "outputId": "9467634a-990e-41fe-d1e5-eecc6e828657"
      },
      "outputs": [
        {
          "name": "stdout",
          "output_type": "stream",
          "text": [
            "1/1 [==============================] - 2s 2s/step\n"
          ]
        }
      ],
      "source": [
        "new_image = image.img_to_array(new_image)\n",
        "\n",
        "new_image = np.expand_dims(new_image, axis = 0)\n",
        "# reshape data for the model\n",
        "#transformed_image = transformed_image.reshape((1, transformed_image.shape[0], transformed_image.shape[1], transformed_image.shape[2]))\n",
        "\n",
        "result = model.predict(new_image)"
      ]
    },
    {
      "cell_type": "code",
      "execution_count": null,
      "metadata": {
        "id": "J5GyucqHRgUz"
      },
      "outputs": [],
      "source": [
        "label_map = dict((v,k) for k,v in training_dataset.class_indices.items())"
      ]
    },
    {
      "cell_type": "code",
      "execution_count": null,
      "metadata": {
        "colab": {
          "base_uri": "https://localhost:8080/"
        },
        "id": "KkbrYAJTRmRG",
        "outputId": "00350e31-5934-4ac2-f0b7-558e91ff495a"
      },
      "outputs": [
        {
          "data": {
            "text/plain": [
              "{0: 'female', 1: 'man'}"
            ]
          },
          "execution_count": 36,
          "metadata": {},
          "output_type": "execute_result"
        }
      ],
      "source": [
        "label_map"
      ]
    },
    {
      "cell_type": "code",
      "execution_count": null,
      "metadata": {
        "colab": {
          "base_uri": "https://localhost:8080/"
        },
        "id": "Q_wilptXcJCX",
        "outputId": "0ec33c5a-9d94-4f5b-d43e-bb4dfb0d9fd2"
      },
      "outputs": [
        {
          "name": "stdout",
          "output_type": "stream",
          "text": [
            "It is a female\n"
          ]
        }
      ],
      "source": [
        "if result[0][0] > 0.5:\n",
        "\n",
        "    prediction = 'It is a man'\n",
        "\n",
        "else:\n",
        "\n",
        "    prediction = 'It is a female'\n",
        "\n",
        "print(prediction)"
      ]
    }
  ],
  "metadata": {
    "colab": {
      "provenance": [],
      "include_colab_link": true
    },
    "kernelspec": {
      "display_name": "Python 3 (ipykernel)",
      "language": "python",
      "name": "python3"
    },
    "language_info": {
      "codemirror_mode": {
        "name": "ipython",
        "version": 3
      },
      "file_extension": ".py",
      "mimetype": "text/x-python",
      "name": "python",
      "nbconvert_exporter": "python",
      "pygments_lexer": "ipython3",
      "version": "3.9.15"
    }
  },
  "nbformat": 4,
  "nbformat_minor": 0
}